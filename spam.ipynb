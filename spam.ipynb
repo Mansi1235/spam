{
 "cells": [
  {
   "cell_type": "code",
   "execution_count": 1,
   "id": "e708438c",
   "metadata": {},
   "outputs": [
    {
     "ename": "ModuleNotFoundError",
     "evalue": "No module named 'wordcloud'",
     "output_type": "error",
     "traceback": [
      "\u001b[1;31m---------------------------------------------------------------------------\u001b[0m",
      "\u001b[1;31mModuleNotFoundError\u001b[0m                       Traceback (most recent call last)",
      "Cell \u001b[1;32mIn[1], line 3\u001b[0m\n\u001b[0;32m      1\u001b[0m \u001b[38;5;28;01mimport\u001b[39;00m \u001b[38;5;21;01mnumpy\u001b[39;00m \u001b[38;5;28;01mas\u001b[39;00m \u001b[38;5;21;01mnp\u001b[39;00m \u001b[38;5;66;03m# Линейная алгебра\u001b[39;00m\n\u001b[0;32m      2\u001b[0m \u001b[38;5;28;01mimport\u001b[39;00m \u001b[38;5;21;01mpandas\u001b[39;00m \u001b[38;5;28;01mas\u001b[39;00m \u001b[38;5;21;01mpd\u001b[39;00m \u001b[38;5;66;03m# Обработка и анализ данных\u001b[39;00m\n\u001b[1;32m----> 3\u001b[0m \u001b[38;5;28;01mfrom\u001b[39;00m \u001b[38;5;21;01mwordcloud\u001b[39;00m \u001b[38;5;28;01mimport\u001b[39;00m WordCloud \u001b[38;5;66;03m# Облако тегов\u001b[39;00m\n\u001b[0;32m      4\u001b[0m \u001b[38;5;28;01mfrom\u001b[39;00m \u001b[38;5;21;01mwordcloud\u001b[39;00m \u001b[38;5;28;01mimport\u001b[39;00m STOPWORDS \u001b[38;5;66;03m# Останавливает слова\u001b[39;00m\n\u001b[0;32m      5\u001b[0m \u001b[38;5;28;01mimport\u001b[39;00m \u001b[38;5;21;01mnltk\u001b[39;00m \u001b[38;5;66;03m# Символьная и статистическая обработка естественного языка\u001b[39;00m\n",
      "\u001b[1;31mModuleNotFoundError\u001b[0m: No module named 'wordcloud'"
     ]
    }
   ],
   "source": [
    "import numpy as np # Линейная алгебра\n",
    "import pandas as pd # Обработка и анализ данных\n",
    "from wordcloud import WordCloud # Облако тегов\n",
    "from wordcloud import STOPWORDS # Останавливает слова\n",
    "import nltk # Символьная и статистическая обработка естественного языка\n",
    "from sklearn.metrics import roc_curve\n",
    "from sklearn.metrics import auc\n",
    "import matplotlib.pyplot as plt \n",
    "import seaborn as sns # Статистическая визуализация данных\n",
    "import scikitplot as skplt #\n",
    "from sklearn.model_selection import train_test_split # Разделяет массивы и матрицы в рандомные train and test subsets \n",
    "\n",
    "from sklearn.feature_extraction.text import CountVectorizer, TfidfTransformer \n",
    "# CountVectorizer - Преобразование коллекции текстовых документов в матрицу подсчета токенов\n",
    "# TfidfTransformer - Преобразование матрицы отсчета в нормализованное представление tf или tf-idf\n",
    "\n",
    "from sklearn.metrics import accuracy_score, confusion_matrix, classification_report #класс оценок\n",
    "# Accuracy Score - вычисляет точность подмножества: набор меток, предсказанных для образца\n",
    "# Confusion Matrix - матрица ошибок\n",
    "# Classification Report - текстовый отчет, показывающий основные показатели классификации\n",
    "\n",
    "\n",
    "#import methods\n",
    "from sklearn.naive_bayes import MultinomialNB \n",
    "from sklearn import svm\n",
    "from sklearn.neighbors import KNeighborsClassifier\n",
    "from sklearn.tree import DecisionTreeClassifier\n",
    "from sklearn.ensemble import RandomForestClassifier\n",
    "#from sklearn.neural_network import MLPClassifier\n",
    "#from xgboost import XGBClassifier"
   ]
  },
  {
   "cell_type": "code",
   "execution_count": null,
   "id": "eaeb4c55",
   "metadata": {},
   "outputs": [],
   "source": []
  }
 ],
 "metadata": {
  "kernelspec": {
   "display_name": "Python 3 (ipykernel)",
   "language": "python",
   "name": "python3"
  },
  "language_info": {
   "codemirror_mode": {
    "name": "ipython",
    "version": 3
   },
   "file_extension": ".py",
   "mimetype": "text/x-python",
   "name": "python",
   "nbconvert_exporter": "python",
   "pygments_lexer": "ipython3",
   "version": "3.11.3"
  }
 },
 "nbformat": 4,
 "nbformat_minor": 5
}
